{
 "cells": [
  {
   "cell_type": "code",
   "execution_count": 3,
   "id": "0036fb1c",
   "metadata": {},
   "outputs": [],
   "source": [
    "import wave\n",
    "import speech_recognition as sr\n",
    "from googlesearch import search\n",
    "import pyttsx3"
   ]
  },
  {
   "cell_type": "code",
   "execution_count": 4,
   "id": "267732ac",
   "metadata": {},
   "outputs": [
    {
     "name": "stdout",
     "output_type": "stream",
     "text": [
      "Say Something : \n",
      "23\n",
      "https://www.youtube.com/watch?v=bbEoRnaOIbs\n",
      "https://www.youtube.com/watch?v=tfUQ__v6-dA\n",
      "https://en.wikipedia.org/wiki/23\n",
      "https://en.wikipedia.org/wiki/23#Music\n",
      "https://en.wikipedia.org/wiki/23#Albums\n",
      "https://en.wikipedia.org/wiki/23#Songs\n",
      "https://en.wikipedia.org/wiki/23_(Mike_Will_Made_It_song)\n",
      "https://en.wikipedia.org/wiki/23_(Mike_Will_Made_It_song)#Production_and_composition\n",
      "https://en.wikipedia.org/wiki/23_(Mike_Will_Made_It_song)#Critical_reception\n",
      "https://en.wikipedia.org/wiki/23_(Mike_Will_Made_It_song)#Music_video\n"
     ]
    }
   ],
   "source": [
    "recognizer = sr.Recognizer()\n",
    "microphone = sr.Microphone()\n",
    "text_speech = pyttsx3.init()\n",
    "with microphone as source:\n",
    "    print(\"Say Something : \")\n",
    "    recognizer.adjust_for_ambient_noise(source)\n",
    "    audio = recognizer.listen(source)\n",
    "    \n",
    "    try:\n",
    "        command = recognizer.recognize_google(audio)\n",
    "        text_speech.say(\"You have searched for \" + command + \"Please wait\")\n",
    "        text_speech.runAndWait()\n",
    "        print(command)\n",
    "    except:\n",
    "        print(\"error\")\n",
    "query = command\n",
    "first = str()\n",
    "for j in search(query, tld=\"co.in\", num=10, stop=10, pause=2):\n",
    "    print(j)"
   ]
  },
  {
   "cell_type": "code",
   "execution_count": null,
   "id": "7b426467",
   "metadata": {},
   "outputs": [],
   "source": []
  }
 ],
 "metadata": {
  "kernelspec": {
   "display_name": "Python 3 (ipykernel)",
   "language": "python",
   "name": "python3"
  },
  "language_info": {
   "codemirror_mode": {
    "name": "ipython",
    "version": 3
   },
   "file_extension": ".py",
   "mimetype": "text/x-python",
   "name": "python",
   "nbconvert_exporter": "python",
   "pygments_lexer": "ipython3",
   "version": "3.9.12"
  }
 },
 "nbformat": 4,
 "nbformat_minor": 5
}
